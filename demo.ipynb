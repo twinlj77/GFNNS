{
 "cells": [
  {
   "cell_type": "code",
   "execution_count": 3,
   "metadata": {},
   "outputs": [
    {
     "ename": "ModuleNotFoundError",
     "evalue": "No module named 'DiffJPEG'",
     "output_type": "error",
     "traceback": [
      "\u001B[1;31m---------------------------------------------------------------------------\u001B[0m",
      "\u001B[1;31mModuleNotFoundError\u001B[0m                       Traceback (most recent call last)",
      "\u001B[1;32m~\\AppData\\Local\\Temp\\ipykernel_22432\\306348231.py\u001B[0m in \u001B[0;36m<module>\u001B[1;34m\u001B[0m\n\u001B[0;32m     10\u001B[0m \u001B[1;32mfrom\u001B[0m \u001B[0mskimage\u001B[0m\u001B[1;33m.\u001B[0m\u001B[0mmetrics\u001B[0m \u001B[1;32mimport\u001B[0m \u001B[0mpeak_signal_noise_ratio\u001B[0m\u001B[1;33m\u001B[0m\u001B[1;33m\u001B[0m\u001B[0m\n\u001B[0;32m     11\u001B[0m \u001B[1;32mfrom\u001B[0m \u001B[0mskimage\u001B[0m\u001B[1;33m.\u001B[0m\u001B[0mmetrics\u001B[0m \u001B[1;32mimport\u001B[0m \u001B[0mstructural_similarity\u001B[0m\u001B[1;33m\u001B[0m\u001B[1;33m\u001B[0m\u001B[0m\n\u001B[1;32m---> 12\u001B[1;33m \u001B[1;32mfrom\u001B[0m \u001B[0msteganogan\u001B[0m \u001B[1;32mimport\u001B[0m \u001B[0mSteganoGAN\u001B[0m\u001B[1;33m\u001B[0m\u001B[1;33m\u001B[0m\u001B[0m\n\u001B[0m\u001B[0;32m     13\u001B[0m \u001B[1;33m\u001B[0m\u001B[0m\n\u001B[0;32m     14\u001B[0m \u001B[1;32mimport\u001B[0m \u001B[0mtorch\u001B[0m\u001B[1;33m\u001B[0m\u001B[1;33m\u001B[0m\u001B[0m\n",
      "\u001B[1;32mG:\\PycharmProjects\\FNNS-main\\steganogan\\__init__.py\u001B[0m in \u001B[0;36m<module>\u001B[1;34m\u001B[0m\n\u001B[0;32m      6\u001B[0m \u001B[0m__version__\u001B[0m \u001B[1;33m=\u001B[0m \u001B[1;34m'0.1.4-dev'\u001B[0m\u001B[1;33m\u001B[0m\u001B[1;33m\u001B[0m\u001B[0m\n\u001B[0;32m      7\u001B[0m \u001B[1;33m\u001B[0m\u001B[0m\n\u001B[1;32m----> 8\u001B[1;33m \u001B[1;32mfrom\u001B[0m \u001B[0msteganogan\u001B[0m\u001B[1;33m.\u001B[0m\u001B[0mmodels\u001B[0m \u001B[1;32mimport\u001B[0m \u001B[0mSteganoGAN\u001B[0m\u001B[1;33m\u001B[0m\u001B[1;33m\u001B[0m\u001B[0m\n\u001B[0m\u001B[0;32m      9\u001B[0m \u001B[1;33m\u001B[0m\u001B[0m\n\u001B[0;32m     10\u001B[0m \u001B[0m__all__\u001B[0m \u001B[1;33m=\u001B[0m \u001B[1;33m(\u001B[0m\u001B[1;34m'SteganoGAN'\u001B[0m\u001B[1;33m,\u001B[0m \u001B[1;33m)\u001B[0m\u001B[1;33m\u001B[0m\u001B[1;33m\u001B[0m\u001B[0m\n",
      "\u001B[1;32mG:\\PycharmProjects\\FNNS-main\\steganogan\\models.py\u001B[0m in \u001B[0;36m<module>\u001B[1;34m\u001B[0m\n\u001B[0;32m     15\u001B[0m \u001B[1;32mfrom\u001B[0m \u001B[0mio\u001B[0m \u001B[1;32mimport\u001B[0m \u001B[0mBytesIO\u001B[0m\u001B[1;33m\u001B[0m\u001B[1;33m\u001B[0m\u001B[0m\n\u001B[0;32m     16\u001B[0m \u001B[1;32mimport\u001B[0m \u001B[0mnumpy\u001B[0m \u001B[1;32mas\u001B[0m \u001B[0mnp\u001B[0m\u001B[1;33m\u001B[0m\u001B[1;33m\u001B[0m\u001B[0m\n\u001B[1;32m---> 17\u001B[1;33m \u001B[1;32mfrom\u001B[0m \u001B[0mDiffJPEG\u001B[0m \u001B[1;32mimport\u001B[0m \u001B[0mDiffJPEG\u001B[0m\u001B[1;33m\u001B[0m\u001B[1;33m\u001B[0m\u001B[0m\n\u001B[0m\u001B[0;32m     18\u001B[0m \u001B[0mnp\u001B[0m\u001B[1;33m.\u001B[0m\u001B[0mrandom\u001B[0m\u001B[1;33m.\u001B[0m\u001B[0mseed\u001B[0m\u001B[1;33m(\u001B[0m\u001B[1;36m1\u001B[0m\u001B[1;33m)\u001B[0m\u001B[1;33m\u001B[0m\u001B[1;33m\u001B[0m\u001B[0m\n\u001B[0;32m     19\u001B[0m \u001B[1;33m\u001B[0m\u001B[0m\n",
      "\u001B[1;31mModuleNotFoundError\u001B[0m: No module named 'DiffJPEG'"
     ]
    }
   ],
   "source": [
    "# import relevant packages\n",
    "import numpy as np \n",
    "import torch\n",
    "import matplotlib.pyplot as plt\n",
    "from imageio import imread, imwrite\n",
    "from torch import nn\n",
    "import random\n",
    "import argparse\n",
    "from PIL import Image\n",
    "from skimage.metrics import peak_signal_noise_ratio\n",
    "from skimage.metrics import structural_similarity\n",
    "from steganogan import SteganoGAN\n",
    "\n",
    "import torch\n",
    "from torch.optim import LBFGS\n",
    "import torch.nn.functional as F\n",
    "\n",
    "# set seed\n",
    "seed = 11111\n",
    "np.random.seed(seed)"
   ]
  },
  {
   "cell_type": "code",
   "execution_count": null,
   "metadata": {},
   "outputs": [],
   "source": [
    "# set paramaters\n",
    "# The mode can be random, pretrained-de or pretrained-d. Refer to the paper for details\n",
    "mode = \"pretrained-d\"\n",
    "steps = 2000\n",
    "max_iter = 10\n",
    "alpha = 0.1\n",
    "eps = 0.3\n",
    "num_bits = 1\n",
    "\n",
    "# some pre-trained steganoGAN models can be found here: https://drive.google.com/drive/folders/1-U2NDKUfqqI-Xd5IqT1nkymRQszAlubu?usp=sharing\n",
    "model_path = \"/home/vk352/FaceDetection/SteganoGAN/research/models/celeba_basic_1_1_mse10.steg\"\n"
   ]
  },
  {
   "cell_type": "code",
   "execution_count": null,
   "metadata": {},
   "outputs": [],
   "source": [
    "steganogan = SteganoGAN.load(path=model_path, cuda=True, verbose=True)\n",
    "input_im = \"/home/vk352/FaceDetection/datasets/div2k/val/512/0801.jpg\"\n",
    "output_im = \"steganographic.png\""
   ]
  },
  {
   "cell_type": "code",
   "execution_count": null,
   "metadata": {},
   "outputs": [],
   "source": [
    "inp_image = imread(input_im, pilmode='RGB')\n",
    "\n",
    "# you can add a custom target message here \n",
    "target = torch.bernoulli(torch.empty(1, num_bits, inp_image.shape[1], inp_image.shape[0]).uniform_(0, 1)).to('cuda')\n",
    "\n",
    "steganogan.encode(input_im, output_im, target)\n",
    "output = steganogan.decode(output_im)\n",
    "\n",
    "if mode == \"pretrained-de\":\n",
    "    image = output_im\n",
    "else:\n",
    "    image = input_im\n",
    "\n",
    "image = imread(image, pilmode='RGB') / 255.0\n",
    "image = torch.FloatTensor(image).permute(2, 1, 0).unsqueeze(0)\n",
    "image = image.to('cuda')"
   ]
  },
  {
   "cell_type": "code",
   "execution_count": null,
   "metadata": {},
   "outputs": [],
   "source": [
    "#initial statistics:\n",
    "\n",
    "im1 = np.array(imread(input_im, pilmode='RGB')).astype(float)\n",
    "im2 = np.array(imread(output_im, pilmode='RGB')).astype(float)\n",
    "print(\"PSNR:\", peak_signal_noise_ratio(im1, im2, data_range=255))\n",
    "print(\"SSIM:\",structural_similarity(im1, im2, data_range=255, multichannel=True))\n",
    "err = ((target !=output.float()).sum().item()+0.0)/target.numel()\n",
    "print(\"Iniitial error:\", err)"
   ]
  },
  {
   "cell_type": "code",
   "execution_count": null,
   "metadata": {},
   "outputs": [],
   "source": [
    "# FNNS Optimization\n",
    "model = steganogan.decoder \n",
    "criterion = torch.nn.BCEWithLogitsLoss(reduction='sum')\n",
    "\n",
    "\n",
    "out = model(image)\n",
    "target = target.to(out.device)\n",
    "\n",
    "count = 0\n",
    "\n",
    "adv_image = image.clone().detach()\n",
    "\n",
    "for i in range(steps // max_iter):\n",
    "    adv_image.requires_grad = True\n",
    "    optimizer = LBFGS([adv_image], lr=alpha, max_iter=max_iter)\n",
    "\n",
    "    def closure():\n",
    "        outputs = model(adv_image)\n",
    "        loss = criterion(outputs, target)\n",
    "\n",
    "\n",
    "        optimizer.zero_grad()\n",
    "        loss.backward()\n",
    "        return loss\n",
    "\n",
    "    optimizer.step(closure)\n",
    "    delta = torch.clamp(adv_image - image, min=-eps, max=eps)\n",
    "    adv_image = torch.clamp(image + delta, min=0, max=1).detach()\n",
    "\n",
    "    err = len(torch.nonzero((model(adv_image)>0).float().view(-1) != target.view(-1))) / target.numel()\n",
    "    print(\"Error:\", err)\n",
    "    if err < 0.00001: eps = 0.7\n",
    "    if err==0: count+=1; eps = 0.3\n",
    "    if count==10: break"
   ]
  },
  {
   "cell_type": "code",
   "execution_count": null,
   "metadata": {},
   "outputs": [],
   "source": [
    "# print final statistics\n",
    "\n",
    "print(\"PSNR:\", peak_signal_noise_ratio(np.array(imread(input_im, pilmode='RGB')).astype(float), (adv_image.squeeze().permute(2,1,0)*255).detach().cpu().numpy(), data_range=255))\n",
    "print(\"SSIM:\", structural_similarity(np.array(imread(input_im, pilmode='RGB')).astype(float), (adv_image.squeeze().permute(2,1,0)*255).detach().cpu().numpy(), data_range=255, multichannel=True))\n",
    "print(\"Error:\", err)\n",
    "lbfgsimg = (adv_image.cpu().squeeze().permute(2,1,0).numpy()*255).astype(np.uint8)\n",
    "\n",
    "Image.fromarray(lbfgsimg).save(output_im)\n",
    "image_read = imread(output_im, pilmode='RGB') / 255.0\n",
    "image_read = torch.FloatTensor(image_read).permute(2, 1, 0).unsqueeze(0).to('cuda')\n",
    "\n",
    "print(\"\\nAfter writing to file and reading from file\")\n",
    "im1 = np.array(imread(input_im, pilmode='RGB')).astype(float)\n",
    "im2 = np.array(imread(output_im, pilmode='RGB')).astype(float)\n",
    "print(\"PSNR:\", peak_signal_noise_ratio(im1, im2, data_range=255))\n",
    "print(\"SSIM:\", structural_similarity(im1, im2, data_range=255, multichannel=True))\n",
    "print(\"Error:\", len(torch.nonzero((model(image_read)>0).float().view(-1) != target.view(-1))) / target.numel())"
   ]
  },
  {
   "cell_type": "code",
   "execution_count": null,
   "metadata": {},
   "outputs": [],
   "source": []
  }
 ],
 "metadata": {
  "kernelspec": {
   "name": "nerf-pytorch",
   "language": "python",
   "display_name": "nerf-pytorch"
  },
  "language_info": {
   "codemirror_mode": {
    "name": "ipython",
    "version": 3
   },
   "file_extension": ".py",
   "mimetype": "text/x-python",
   "name": "python",
   "nbconvert_exporter": "python",
   "pygments_lexer": "ipython3",
   "version": "3.6.13"
  }
 },
 "nbformat": 4,
 "nbformat_minor": 4
}